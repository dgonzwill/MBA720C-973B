{
 "cells": [
  {
   "cell_type": "code",
   "execution_count": 7,
   "metadata": {},
   "outputs": [],
   "source": [
    "# Import the csv module\n",
    "import os\n",
    "import csv"
   ]
  },
  {
   "cell_type": "markdown",
   "metadata": {},
   "source": [
    "---\n",
    "\n",
    "## Question 1\n",
    "\n",
    "- Part 1: First, you'll need to load the CSV, [which you can access here](https://gist.github.com/jeff-boykin/2879dcf8936e42f2d0ef5c7c39b4da70).  \n",
    "\n",
    "> Our data is a truncated subset of data taken from [Inside Airbnb](http://insideairbnb.com/asheville/); note that the original data contains many more columns, which have been removed for this assignment.\n",
    "\n",
    "> Hint: The delimiter for this file is a *tab* character, which can be passed into the `csv.reader` as `csv.reader(csvfile, delimiter='\\t')`\n",
    "\n",
    "\n",
    "- Part 2: Next, create a list called `column_names` that holds the column names from the csv. \n",
    "\n",
    "> Hint: There should be 7 columns, total. Eg. `columns_names == ['id', 'listing_url', ....]`\n",
    "\n",
    "\n",
    "- Part 3: Now create a list called `listings` that holds each listing as it's own list (there should be 2,170 total). For example, `listings[0]` should be:\n",
    "\n",
    "```\n",
    "['38585','https://www.airbnb.com/rooms/38585', 'Charming Victorian home - twin beds + breakfast', '{Internet,Wifi,\"Air conditioning\",Kitchen,\"Free parking on premises\",Breakfast,\"Pets live on this property\",Cat(s),\"Indoor fireplace\",Heating,Washer,Dryer,\"Smoke detector\",\"Carbon monoxide detector\",\"First aid kit\",\"Fire extinguisher\",Essentials,Shampoo,Hangers,\"Hair dryer\",Iron,\"translation missing: en.hosting_amenity_49\",\"translation missing: en.hosting_amenity_50\",\"Hot water\",\"Bed linens\",\"Extra pillows and blankets\",\"Patio or balcony\",\"Garden or backyard\",\"Host greets you\"}', '$55.00', '1','1.0']\n",
    "```\n",
    "\n",
    "#### Need Help?\n",
    "- [Please refer to **Lesson 2 Activities 07-Ins_ReadCSV, 08-Ins_ReadNetFlix, and 11-Stu_Udemy Solutions** for example code for reading csv file]\n",
    "- [Do not forget the len() method for obtaining the number of elements in a list]\n",
    "- [This is a useful resource on Python data types](https://www.geeksforgeeks.org/python-set-3-strings-lists-tuples-iterations/).\n",
    "- [For more info on Python lists, see here](https://www.w3schools.com/python/python_lists.asp).\n",
    "- [This is another good resource on reading and writing CSV files in Python](https://www.w3schools.com/python/python_file_write.asp) .\n",
    "\n",
    "\n",
    "> Quick note on the `translation missing: en.hosting_amenity_XX` amenity. Airbnb has to translate each amenity into as many languages as it can in order to provide their services across multiple geographic regions. In order to do this, each amenity is assigned an English translation and served up to us when we view the site in English. When we see things like `translation missing: en.hosting_amenity_49`, that implies that there is some amenity for which there is no suitable translation."
   ]
  },
  {
   "cell_type": "code",
   "execution_count": 258,
   "metadata": {
    "editable": true,
    "slideshow": {
     "slide_type": ""
    },
    "tags": []
   },
   "outputs": [],
   "source": [
    "# HOMEWORK STARTS HERE\n",
    "# QUESTION 1 - PART 1\n",
    "\n",
    "import os\n",
    "import csv\n",
    "\n",
    "csvpath = r\"C:\\Users\\dgonz\\OneDrive\\Desktop\\MBA\\(Block 1) MBA720C Intro to Python for Business Analytics\\Graded Assignments\\Assignment1\\asheville_airbnb_truncated.csv\"\n",
    "\n",
    "with open(csvpath, newline=\"\", encoding = \"utf-8\") as csvfile:\n",
    "    csvreader = csv.reader(csvfile, delimiter = \"\\t\")\n",
    "    isHeader = True\n",
    "\n",
    "    if isHeader == True:\n",
    "        header = next(csvreader, None)\n",
    "    \n",
    "    header = []\n",
    "    id = []\n",
    "    listing_url = []\n",
    "    name = []\n",
    "    amenities = []\n",
    "    price = []\n",
    "    bedrooms = []\n",
    "    bathrooms = []\n",
    "\n",
    "    listings = []\n",
    "\n",
    "    for row in csvreader:\n",
    "        header.append(row[0])\n",
    "        listings.append(row)\n",
    "        #QUESTION 3, PART 1\n",
    "        price.append(float(row[5]))\n"
   ]
  },
  {
   "cell_type": "code",
   "execution_count": 260,
   "metadata": {},
   "outputs": [
    {
     "name": "stdout",
     "output_type": "stream",
     "text": [
      "['id', 'listing_url', 'name', 'amenities', 'price', 'bedrooms', 'bathrooms']\n",
      "7\n"
     ]
    }
   ],
   "source": [
    "#QUESTION 1 - PART 2\n",
    "#CREATING COLUMN_NAMES LIST\n",
    "\n",
    "column_names == [\"id\", \"listing_url\", \"name\", \"amenities\", \"price\", \"bedrooms\", \"bathrooms\"]\n",
    "\n",
    "print(column_names)\n",
    "\n",
    "#SHOWING HOW MANY COLUMNS\n",
    "print(len(column_names))"
   ]
  },
  {
   "cell_type": "code",
   "execution_count": 262,
   "metadata": {
    "editable": true,
    "slideshow": {
     "slide_type": ""
    },
    "tags": []
   },
   "outputs": [
    {
     "name": "stdout",
     "output_type": "stream",
     "text": [
      "['38585', 'https://www.airbnb.com/rooms/38585', 'Charming Victorian home - twin beds + breakfast', '{Internet,Wifi,\"Air conditioning\",Kitchen,\"Free parking on premises\",Breakfast,\"Pets live on this property\",Cat(s),\"Indoor fireplace\",Heating,Washer,Dryer,\"Smoke detector\",\"Carbon monoxide detector\",\"First aid kit\",\"Fire extinguisher\",Essentials,Shampoo,Hangers,\"Hair dryer\",Iron,\"translation missing: en.hosting_amenity_49\",\"translation missing: en.hosting_amenity_50\",\"Hot water\",\"Bed linens\",\"Extra pillows and blankets\",\"Patio or balcony\",\"Garden or backyard\",\"Host greets you\"}', '$55.00', '1', '1.0']\n",
      "There are 2170 in the Asheville Airbnb list.\n"
     ]
    }
   ],
   "source": [
    "#QUESTION 1 - PART 3\n",
    "\n",
    "print(listings[0])\n",
    "\n",
    "num_listings = f\"There are {len(listings)} in the Asheville Airbnb list.\"\n",
    "print(num_listings)"
   ]
  },
  {
   "cell_type": "markdown",
   "metadata": {},
   "source": [
    "---\n",
    "\n",
    "## Question 2\n",
    "\n",
    "Next, answer the following questions using the `listings` variable:\n",
    "\n",
    "- Part 1. Print the first listing\n",
    "- Part 2. Print the 100th listing\n",
    "- Part 3. Print the price of the 100th listing *without* printing the rest of the listing information!\n",
    "\n",
    "> Hint: [Indexes for lists in python begin with 0]\n",
    "\n",
    "> Hint: [Here is a reference for printing in Python](https://www.w3schools.com/python/ref_func_print.asp) "
   ]
  },
  {
   "cell_type": "code",
   "execution_count": 264,
   "metadata": {},
   "outputs": [
    {
     "name": "stdout",
     "output_type": "stream",
     "text": [
      "['38585', 'https://www.airbnb.com/rooms/38585', 'Charming Victorian home - twin beds + breakfast', '{Internet,Wifi,\"Air conditioning\",Kitchen,\"Free parking on premises\",Breakfast,\"Pets live on this property\",Cat(s),\"Indoor fireplace\",Heating,Washer,Dryer,\"Smoke detector\",\"Carbon monoxide detector\",\"First aid kit\",\"Fire extinguisher\",Essentials,Shampoo,Hangers,\"Hair dryer\",Iron,\"translation missing: en.hosting_amenity_49\",\"translation missing: en.hosting_amenity_50\",\"Hot water\",\"Bed linens\",\"Extra pillows and blankets\",\"Patio or balcony\",\"Garden or backyard\",\"Host greets you\"}', '$55.00', '1', '1.0']\n"
     ]
    }
   ],
   "source": [
    "#QUESTION 2 - PART 1\n",
    "\n",
    "# Show the first listing:\n",
    "print(listings[0])"
   ]
  },
  {
   "cell_type": "code",
   "execution_count": 266,
   "metadata": {},
   "outputs": [
    {
     "name": "stdout",
     "output_type": "stream",
     "text": [
      "['2222067', 'https://www.airbnb.com/rooms/2222067', 'Sassy Blue Room in Southslope', '{TV,Wifi,\"Air conditioning\",\"Free parking on premises\",Heating,\"Family/kid friendly\",\"Smoke detector\",\"Fire extinguisher\",Essentials,Shampoo,\"Lock on bedroom door\",\"24-hour check-in\",Hangers,\"Hair dryer\",Iron,\"translation missing: en.hosting_amenity_50\",\"Self check-in\",Lockbox,\"Private entrance\",\"Hot water\",\"Bed linens\",\"Extra pillows and blankets\"}', '$85.00', '1', '1.0']\n"
     ]
    }
   ],
   "source": [
    "#QUESTION 2 - PART 2\n",
    "\n",
    "# What is the 100th listing on this list?\n",
    "print(listings[99])"
   ]
  },
  {
   "cell_type": "code",
   "execution_count": 281,
   "metadata": {},
   "outputs": [
    {
     "name": "stdout",
     "output_type": "stream",
     "text": [
      "$85.00\n"
     ]
    }
   ],
   "source": [
    "#QUESTION 2 - PART 3\n",
    "\n",
    "# What is the price of the 100th listing on this list?\n",
    "price = listings[99]\n",
    "\n",
    "print(price[4])"
   ]
  },
  {
   "cell_type": "markdown",
   "metadata": {},
   "source": [
    "---\n",
    "\n",
    "## Question 3\n",
    "\n",
    "Next, let's dig into price differences between listings with different criteria.\n",
    "\n",
    "- Part 1. What is the average price for the entire set of listings? \n",
    "\n",
    "- Part 2. What is the standard deviation of the price for the entire set of listings? \n",
    "\n",
    "- Part 3. Create two lists called `small_homes_one` and `small_homes_two` where the elements fit the following criteria:\n",
    "    - `small_homes_one` should only have listings with *exactly* 1 bathroom\n",
    "    - `small_homes_two` should only have listings with *less* than 2 bathrooms AND exactly 1 bedroom\n",
    "\n",
    "- Part 4. Finish by printing the number of elements in each list.\n",
    "\n",
    "Please refer to **Lesson 3 Activity 03-Stu_CerealStats Solution** for examples for how to compute statistics for lists. **Lesson 3 Activity 01-Stu_CerealCleaner** may also be a helpful reference.\n",
    "\n",
    "Optional Challenge: Try creating these lists using **list comprehensions**. For helpful references and documentation on list comprehensions, see [this link](https://docs.python.org/3/tutorial/datastructures.html#list-comprehensions) or [check out this one](https://treyhunner.com/2015/12/python-list-comprehensions-now-in-color/)."
   ]
  },
  {
   "cell_type": "markdown",
   "metadata": {},
   "source": [
    "### TUTORIAL\n",
    "\n",
    "To help you get started, here are a few examples of list comprehensions in action!"
   ]
  },
  {
   "cell_type": "code",
   "execution_count": 313,
   "metadata": {
    "editable": true,
    "slideshow": {
     "slide_type": ""
    },
    "tags": []
   },
   "outputs": [
    {
     "name": "stdout",
     "output_type": "stream",
     "text": [
      "['$55.00' '$765.00' '$75.00' ... '$199.00' '$99.00' '$92.00']\n"
     ]
    }
   ],
   "source": [
    "# QUESTION 3 - WORK START\n",
    "\n",
    "import numpy as np\n",
    "\n",
    "# What is the average price for the entire set of listings?\n",
    "price_listings = array_listings[:, 4]\n"
   ]
  },
  {
   "cell_type": "code",
   "execution_count": 418,
   "metadata": {
    "editable": true,
    "slideshow": {
     "slide_type": ""
    },
    "tags": []
   },
   "outputs": [
    {
     "name": "stdout",
     "output_type": "stream",
     "text": [
      "success\n"
     ]
    }
   ],
   "source": [
    "#PRICE LISTINGS > NEW CSV FILE\n",
    "import csv\n",
    "\n",
    "input_csv = r\"C:\\Users\\dgonz\\OneDrive\\Desktop\\MBA\\(Block 1) MBA720C Intro to Python for Business Analytics\\Graded Assignments\\Assignment1\\asheville_airbnb_truncated.csv\"\n",
    "output_csv = r\"C:\\Users\\dgonz\\OneDrive\\Desktop\\MBA\\(Block 1) MBA720C Intro to Python for Business Analytics\\Graded Assignments\\Assignment1\\asheville_airbnb_pricing.csv\"\n",
    "\n",
    "column_index = 4\n",
    "\n",
    "with open(input_csv, 'r', newline='', encoding='utf-8') as infile:\n",
    "    csv_reader = csv.reader(infile, delimiter='\\t')\n",
    "    next(csv_reader)\n",
    "    \n",
    "    with open(output_csv, 'w', newline='', encoding='utf-8') as outfile:\n",
    "        csv_writer = csv.writer(outfile, delimiter='\\t')\n",
    "\n",
    "        price = []\n",
    "\n",
    "        for row in csv_reader:\n",
    "            csv_writer.writerow([row[column_index]])\n",
    "            price.append(float(row[4].replace('$', '').replace(',', ''))) #CLEAN DATA BY CONVERT PRICE > INTEGER\n",
    "\n",
    "print(f\"success\")"
   ]
  },
  {
   "cell_type": "code",
   "execution_count": 420,
   "metadata": {
    "editable": true,
    "slideshow": {
     "slide_type": ""
    },
    "tags": []
   },
   "outputs": [
    {
     "name": "stdout",
     "output_type": "stream",
     "text": [
      "75.0\n"
     ]
    }
   ],
   "source": [
    "#CONVERT PRICE > INTEGER\n",
    "#test\n",
    "\n",
    "print(price[2])"
   ]
  },
  {
   "cell_type": "code",
   "execution_count": 432,
   "metadata": {
    "editable": true,
    "slideshow": {
     "slide_type": ""
    },
    "tags": []
   },
   "outputs": [
    {
     "name": "stdout",
     "output_type": "stream",
     "text": [
      "167.88709677419354\n",
      "\n",
      "The average price for the entire set of listings is $167.89.\n"
     ]
    }
   ],
   "source": [
    "#QUESTION 3 - PART 1\n",
    "#AVG LISTING PRICE\n",
    "\n",
    "mean_price = np.mean(price)\n",
    "print(mean_price)\n",
    "print()\n",
    "print(f\"The average price for the entire set of listings is ${mean_price:.2f}.\")"
   ]
  },
  {
   "cell_type": "code",
   "execution_count": 445,
   "metadata": {},
   "outputs": [
    {
     "name": "stdout",
     "output_type": "stream",
     "text": [
      "411.87803736981186\n"
     ]
    }
   ],
   "source": [
    "#QUESTION 3 - PART 2\n",
    "#STD DEV OF PRICE \n",
    "#Standard deviation of the price for the entire set of listings?#\n",
    "\n",
    "stddev_price = np.std(price)\n",
    "print(stddev_price) #answer doesn't look right, come back to this"
   ]
  },
  {
   "cell_type": "code",
   "execution_count": 474,
   "metadata": {
    "editable": true,
    "slideshow": {
     "slide_type": ""
    },
    "tags": []
   },
   "outputs": [
    {
     "name": "stdout",
     "output_type": "stream",
     "text": [
      "1530\n",
      "\n",
      "There are 1530 listings with one bathroom.\n"
     ]
    }
   ],
   "source": [
    "#QUESTION 3 - PART 3\n",
    "\n",
    "import os\n",
    "import csv\n",
    "\n",
    "csvpath = r\"C:\\Users\\dgonz\\OneDrive\\Desktop\\MBA\\(Block 1) MBA720C Intro to Python for Business Analytics\\Graded Assignments\\Assignment1\\asheville_airbnb_truncated.csv\"\n",
    "\n",
    "with open(csvpath, newline=\"\", encoding = \"utf-8\") as csvfile:\n",
    "    csvreader = csv.reader(csvfile, delimiter = \"\\t\")\n",
    "    isHeader = True\n",
    "\n",
    "    if isHeader == True:\n",
    "        header = next(csvreader, None)\n",
    "    \n",
    "    header = []\n",
    "    id = []\n",
    "    listing_url = []\n",
    "    name = []\n",
    "    amenities = []\n",
    "    price = []\n",
    "    bedrooms = []\n",
    "    bathrooms = []\n",
    "\n",
    "    listings = []\n",
    "\n",
    "    for row in csvreader:\n",
    "        header.append(row[0])\n",
    "        listings.append(row)\n",
    "        bedrooms.append(float(row[5]))\n",
    "        bathrooms.append(row[6])\n",
    "\n",
    "column_index = 6\n",
    "\n",
    "small_homes_one = [row for row in listings if row[6] == '1.0'] #LIST 1 - 1 BATHROOM\n",
    "\n",
    "print(len(small_homes_one)) #test\n",
    "\n",
    "print()\n",
    "\n",
    "print(f\"There are {len(small_homes_one)} listings with one bathroom.\") #PART 4\n",
    "\n"
   ]
  },
  {
   "cell_type": "code",
   "execution_count": 486,
   "metadata": {},
   "outputs": [
    {
     "name": "stdout",
     "output_type": "stream",
     "text": [
      "1219\n",
      "\n",
      "There are 1219 listings with less than two bedrooms and exactly one bathroom.\n"
     ]
    }
   ],
   "source": [
    "#PART 3 <2 BEDROOMS; EXACTLY 1 BATHROOM\n",
    "\n",
    "column_index_value = 5\n",
    "column_index_string = 6\n",
    "\n",
    "threshold = 2.0\n",
    "specific_string = '1.0'\n",
    "\n",
    "small_homes_two = [\n",
    "    row for row in listings \n",
    "    if float(row[column_index_value]) < threshold and row[column_index_string] == specific_string\n",
    "] \n",
    "\n",
    "print(len(small_homes_two)) #test\n",
    "\n",
    "print()\n",
    "\n",
    "print(f\"There are {len(small_homes_two)} listings with less than two bedrooms and exactly one bathroom.\") #PART 4"
   ]
  },
  {
   "cell_type": "markdown",
   "metadata": {},
   "source": [
    "---\n",
    "\n",
    "# OPTIONAL\n",
    "\n",
    "> NOTE: Questions 4-12 are *NOT* required for submission. You can stop here and submit the assignment if needed. \n",
    "\n",
    "Great work on these! You've walked through a lot of foundational Python principles and derived some interesting insights... But there's still more to be done. If you're interested, continue on! We'll deepen our analysis by incorporating **Pandas** and **Matplotlib**.\n",
    "\n",
    "Remember, Optional and Challenge questions are ***not required.*** \n",
    "\n",
    "> Hint: If you feel like proceeding, check out the documentation for [Pandas](https://pandas.pydata.org/pandas-docs/version/0.25/) and [Matplotlib](https://matplotlib.org/3.1.1/users/index.html). We'll be covering these in-class as well."
   ]
  },
  {
   "cell_type": "markdown",
   "metadata": {},
   "source": [
    "---\n",
    "\n",
    "### Tutorial\n",
    "\n",
    "Before we get to Question 4, let's look at a few ways to manipulate string data."
   ]
  },
  {
   "cell_type": "code",
   "execution_count": 16,
   "metadata": {
    "ExecuteTime": {
     "end_time": "2019-08-15T16:55:09.187313Z",
     "start_time": "2019-08-15T16:55:09.179685Z"
    }
   },
   "outputs": [
    {
     "name": "stdout",
     "output_type": "stream",
     "text": [
      "['a', 'b', 'c', 'd']\n",
      "['a', 'b', 'c', 'd']\n",
      "['a', 'b', 'c', 'd']\n"
     ]
    }
   ],
   "source": [
    "# And here are some examples of the `.split` functionality with strings. Take a look and then proceed to Question 3 when you're ready!\n",
    "\n",
    "# Usage: str.split(delimiter)\n",
    "# Returns: list\n",
    "\n",
    "print(\"a,b,c,d\".split(','))  # split by comma\n",
    "print(\"a;b;c;d\".split(';'))  # split by semi-colon\n",
    "print(\"a; b; c; d\".split('; '))  # split by semi-colon and a space\n"
   ]
  },
  {
   "cell_type": "code",
   "execution_count": null,
   "metadata": {},
   "outputs": [],
   "source": []
  },
  {
   "cell_type": "markdown",
   "metadata": {
    "editable": true,
    "slideshow": {
     "slide_type": ""
    },
    "tags": []
   },
   "source": [
    "---\n",
    "\n",
    "## Question 4\n",
    "\n",
    "Create a list called `parsed_listings` that contains the original listings as its elements - but with the following changes:\n",
    "    - Change the 4th item (amenities) to be a list of strings (This one is the hardest.) \n",
    "> (Hint, you may have to remove the `\"`, `}`, and the `{` characters and then split the string by the comma)    \n",
    "    \n",
    "    - Change the 5th item (price) to be a float \n",
    "> (Hint, similarly, you may have to use `.replace` to remove a few bad characters from your floats)\n",
    "\n",
    "    - Change the 6th item (bedrooms) to be a float\n",
    "    - Change the 7th item (bathrooms) to be a float\n",
    "\n",
    "Note that the elements of `parsed_listings` should still be lists themselves, holding the listings' characteristics. [Click here for more info on working with different Python data types](https://www.w3schools.com/python/python_datatypes.asp).\n",
    "\n",
    "\n",
    "Finally, make sure to do all this *without* using a [list comprehension](https://docs.python.org/3/tutorial/datastructures.html); instead, you'll want to use a `for` loop. For example, the first element (`parsed_listing[0]`) should look like:\n",
    "\n",
    "```\n",
    "['36100528',\n",
    " 'https://www.airbnb.com/rooms/36100528',\n",
    " 'Casita Amelia in West Asheville',\n",
    " ['TV',\n",
    "  'Wifi',\n",
    "  'Air conditioning',\n",
    "  'Free parking on premises',\n",
    "  'Breakfast',\n",
    "  'Heating',\n",
    "  'Smoke detector',\n",
    "  'First aid kit',\n",
    "  'Fire extinguisher',\n",
    "  'Essentials',\n",
    "  'Shampoo',\n",
    "  'Lock on bedroom door',\n",
    "  'Hangers',\n",
    "  'Hair dryer',\n",
    "  'Iron',\n",
    "  'Private entrance'],\n",
    " 92.0,\n",
    " 1.0,\n",
    " 1.0]\n",
    "```\n"
   ]
  },
  {
   "cell_type": "code",
   "execution_count": 18,
   "metadata": {
    "ExecuteTime": {
     "end_time": "2019-08-15T16:55:09.250206Z",
     "start_time": "2019-08-15T16:55:09.190806Z"
    }
   },
   "outputs": [],
   "source": [
    "# Now you try!\n",
    "    "
   ]
  },
  {
   "cell_type": "markdown",
   "metadata": {},
   "source": [
    "---\n",
    "\n",
    "### Tutorial\n",
    "\n",
    "Before we get to Question 5, let's look at a few ways to manipulate string data.\n",
    "#Next Question"
   ]
  },
  {
   "cell_type": "code",
   "execution_count": 32,
   "metadata": {},
   "outputs": [
    {
     "name": "stdout",
     "output_type": "stream",
     "text": [
      "<zip object at 0x10fdbe888>\n",
      "[(1, 'a'), (2, 'b'), (3, 'c')]\n",
      "{1: 'a', 2: 'b', 3: 'c'}\n",
      "{'a': 1, 'b': 2, 'c': 3}\n"
     ]
    },
    {
     "data": {
      "text/plain": [
       "[(1, 'a', 'do'), (2, 'b', 're')]"
      ]
     },
     "execution_count": 32,
     "metadata": {},
     "output_type": "execute_result"
    }
   ],
   "source": [
    "# Example using the `zip` functionality of lists (this will come in handy for the next question!)\n",
    "\n",
    "# Usage: zip(list1, list2, ...)\n",
    "# Returns: list of tuples with elements of each list smashed together\n",
    "\n",
    "list1 = [1, 2, 3]\n",
    "list2 = ['a', 'b', 'c']\n",
    "\n",
    "print(zip(list1, list2))  # Zip object\n",
    "\n",
    "print(list(zip(list1, list2)))  # cast as a list to see elements\n",
    "\n",
    "print(dict(zip(list1, list2)))  # cast as a dict to see elements as a dictionary\n",
    "\n",
    "# Order matters. If I switch the order of list1 and list2, the values are swapped\n",
    "print(dict(zip(list2, list1)))  # cast as a list to see elements\n",
    "\n",
    "# zip can take in any number of lists\n",
    "list(zip([1, 2], ['a', 'b'], ['do', 're']))\n"
   ]
  },
  {
   "cell_type": "code",
   "execution_count": 33,
   "metadata": {},
   "outputs": [],
   "source": [
    "# Now you try!\n"
   ]
  },
  {
   "cell_type": "markdown",
   "metadata": {},
   "source": [
    "---\n",
    "\n",
    "## Question 5\n",
    "\n",
    "- Part 1. Great work so far! Now let's create a *dictionary* called `amenities_count`. \n",
    "\n",
    "> Hint: A dictionary uses key/value pairs. For more info on Python dictionaries, [check out this link](https://www.w3schools.com/python/python_dictionaries.asp).\n",
    "\n",
    "For your new `amenities_count` dictionary, make the *keys* of the dictionary equal the amenities listed and the *values* indicate the number of times that amenity appears across every listing.\n",
    "\n",
    "Examples:\n",
    "    - amenities_count['Day bed'] == 7\n",
    "    - amenities_count['Coffee maker'] == 1230\n",
    "    \n",
    "- Part 2. Now *iterate* over your new `amenities_count` dictionary to surface the amenity that appears the *most often* across all listings!\n",
    "\n"
   ]
  },
  {
   "cell_type": "code",
   "execution_count": 26,
   "metadata": {},
   "outputs": [],
   "source": [
    "# Now you try!\n"
   ]
  },
  {
   "cell_type": "markdown",
   "metadata": {},
   "source": [
    "---\n",
    "\n",
    "### Tutorial\n",
    "\n",
    "Before we proceed any further, let's take a look at a few examples:"
   ]
  },
  {
   "cell_type": "markdown",
   "metadata": {},
   "source": [
    "---\n",
    "\n",
    "## Question 6\n",
    "\n",
    "Use list comprehensions and the `parsed_listing_dict` list to answer the following questions:\n",
    "\n",
    "- Part 1. How many listings are over \\\\$50 a night?\n",
    "> Hint, the price of \\\\$50 dollars shouldn't count\n",
    "\n",
    "- Part 2. How many listings claim to have both \"Wifi\" and a \"Hair dryer\"?\n",
    "\n",
    "- Part 3. How many listings have the word \"cottage\" in the name? \n",
    "> Hint, both \"Cottage\" and \"cottage\" count!\n"
   ]
  },
  {
   "cell_type": "code",
   "execution_count": 38,
   "metadata": {},
   "outputs": [],
   "source": [
    "# Now you try!\n"
   ]
  },
  {
   "cell_type": "markdown",
   "metadata": {},
   "source": [
    "---\n",
    "\n",
    "## Question 7\n",
    "\n",
    "Last one! Let's analyze a bit further.\n",
    "\n",
    "- Part 1. What is the average price of listings that match the following criteria:\n",
    "    - At least 2 bedrooms but less than 3 bedrooms and 1.5 baths\n",
    "    - 3+ bedrooms and at least 2 baths\n",
    "    \n",
    "- Part 2. Now determine the price difference, on average, between listings that provide the following amenities vs. those that *don't* provide them:\n",
    "    - Wifi\n",
    "    - Day bed\n",
    "    - Coffee maker\n",
    "    - Host greeting\n",
    "    \n",
    "- Part 3. What is the average price of a \"family-friendly\" unit? They are asking you to come up with your own definition of what makes a listing family friendly, defend that definition, and find the average price of listings that meet that criteria. (Hint, take a look at the list of amenities and hypothesize which of them will be useful for familes on a getaway)\n"
   ]
  },
  {
   "cell_type": "code",
   "execution_count": 42,
   "metadata": {},
   "outputs": [],
   "source": [
    "# Now you try!\n"
   ]
  },
  {
   "cell_type": "markdown",
   "metadata": {},
   "source": [
    "---\n",
    "\n",
    "## Question 8\n",
    "\n",
    "> Remember, questions 4-12 are *optional*\n",
    "\n",
    "Export the name, listing_url, and price of the cottages to a new CSV file (be sure to include headers).\n",
    "\n",
    "Your CSV should have 147 rows (including the header!)\n",
    "\n",
    "> Hint: [Click here for a useful reference on reading/writing CSV files](https://www.w3schools.com/python/python_file_write.asp)."
   ]
  },
  {
   "cell_type": "code",
   "execution_count": 48,
   "metadata": {},
   "outputs": [],
   "source": [
    "# Now you try!\n",
    "\n",
    "# Hint: You might want to refer back to your answer from question 7"
   ]
  },
  {
   "cell_type": "markdown",
   "metadata": {},
   "source": [
    "---\n",
    "\n",
    "## Question 9\n",
    "\n",
    "> Remember, questions 4-12 are *optional*\n",
    "\n",
    "- Part 1. Create a function called `firstname_preference`, where `firstname` is replaced by your name. This function should take in a **single parsed listing** and output either \"True\" or \"False\". It should output \"True\" if the parsed listing matches a set of criteria that *you* define - pick any criteria that you prefer! Be creative here; think about what you like or need in a rental.\n",
    "\n",
    "- Part 2. Now use your new function to filter out the listings (taken from `parsed_listing_dict`) that you wouldn't like. Store the listings that you *would* like in a CSV called `firstname_preferences.csv`\n",
    "\n",
    "\n",
    "For example:\n",
    "\n",
    "```\n",
    "def sinan_preference(parsed_listing):\n",
    "    return listings that have coffee makers, wifi, and are under $100 a night\n",
    "\n",
    "```\n",
    "\n",
    "Example output:\n",
    "\n",
    "![Pref CSV](data/sinan_preferences.png \"Sinan's Preferences\")\n"
   ]
  },
  {
   "cell_type": "code",
   "execution_count": 50,
   "metadata": {},
   "outputs": [],
   "source": [
    "# Now you try!\n"
   ]
  },
  {
   "cell_type": "markdown",
   "metadata": {},
   "source": [
    "---\n",
    "\n",
    "## Question 10\n",
    "\n",
    "> Remember, questions 4-12 are *optional*\n",
    "\n",
    "In an effort to deliver even more value to your client, you can dig into additional data in order to expand on your summary analysis so far. Take a look at the datasets called `listings.csv` and `calendar.csv`:\n",
    "\n",
    "- `Listings.csv` is the full version of the dataset sampled for Questions 1-10. It has the same number of rows but *many* more columns!\n",
    "- `Calendar.csv` shows a breakdown of nightly prices for the listings available in `listings.csv` daily. Airbnb allows hosts to fluctuate nightly prices based on date (for example, raising the price on holidays).\n",
    "\n",
    "Understanding the difference in pricing for different variables is imperative for property managers. To optimally price their units, they will need to understand high-level trends in their area. To help them understand Asheville property trends, you have come up with a few questions.\n",
    "\n",
    "Let's use [Pandas](https://pandas.pydata.org/pandas-docs/version/0.25/reference/api/pandas.read_csv.html) and the `listings.csv` dataset to solve the following questions:\n",
    "\n",
    "- Part 1. Show the average nightly price for listings by zipcode and the number of listings by zipcode in two different bar charts. \n",
    "- Part 2. If a property manager wants to charge \\\\$150 a night for a property in the zipcode 28801, where would that fall in the range of properites in the area?\n",
    "- Part 3. Show the average nightly price for listings by their cancellation policy as a bar chart\n",
    "- Part 4. Show the distribution of the number of reviews listings houses receive in the zipcode 28806\n",
    "\n",
    "\n",
    "> Hint: [We'll be working a lot more with Pandas later, so it won't hurt to start getting familiar with it now!](https://www.geeksforgeeks.org/python-data-analysis-using-pandas/)\n"
   ]
  },
  {
   "cell_type": "code",
   "execution_count": 53,
   "metadata": {},
   "outputs": [
    {
     "data": {
      "text/html": [
       "<div>\n",
       "<style scoped>\n",
       "    .dataframe tbody tr th:only-of-type {\n",
       "        vertical-align: middle;\n",
       "    }\n",
       "\n",
       "    .dataframe tbody tr th {\n",
       "        vertical-align: top;\n",
       "    }\n",
       "\n",
       "    .dataframe thead th {\n",
       "        text-align: right;\n",
       "    }\n",
       "</style>\n",
       "<table border=\"1\" class=\"dataframe\">\n",
       "  <thead>\n",
       "    <tr style=\"text-align: right;\">\n",
       "      <th></th>\n",
       "      <th>id</th>\n",
       "      <th>listing_url</th>\n",
       "      <th>scrape_id</th>\n",
       "      <th>last_scraped</th>\n",
       "      <th>name</th>\n",
       "      <th>summary</th>\n",
       "      <th>space</th>\n",
       "      <th>description</th>\n",
       "      <th>experiences_offered</th>\n",
       "      <th>neighborhood_overview</th>\n",
       "      <th>...</th>\n",
       "      <th>instant_bookable</th>\n",
       "      <th>is_business_travel_ready</th>\n",
       "      <th>cancellation_policy</th>\n",
       "      <th>require_guest_profile_picture</th>\n",
       "      <th>require_guest_phone_verification</th>\n",
       "      <th>calculated_host_listings_count</th>\n",
       "      <th>calculated_host_listings_count_entire_homes</th>\n",
       "      <th>calculated_host_listings_count_private_rooms</th>\n",
       "      <th>calculated_host_listings_count_shared_rooms</th>\n",
       "      <th>reviews_per_month</th>\n",
       "    </tr>\n",
       "  </thead>\n",
       "  <tbody>\n",
       "    <tr>\n",
       "      <th>0</th>\n",
       "      <td>38585</td>\n",
       "      <td>https://www.airbnb.com/rooms/38585</td>\n",
       "      <td>20190626174513</td>\n",
       "      <td>2019-06-26</td>\n",
       "      <td>Charming Victorian home - twin beds + breakfast</td>\n",
       "      <td>Per the City Council of Asheville. Due to the ...</td>\n",
       "      <td>Charming room with 2 twin size beds, furnished...</td>\n",
       "      <td>Per the City Council of Asheville. Due to the ...</td>\n",
       "      <td>none</td>\n",
       "      <td>Our North Asheville neighborhood stretches alo...</td>\n",
       "      <td>...</td>\n",
       "      <td>f</td>\n",
       "      <td>f</td>\n",
       "      <td>moderate</td>\n",
       "      <td>t</td>\n",
       "      <td>t</td>\n",
       "      <td>1</td>\n",
       "      <td>0</td>\n",
       "      <td>1</td>\n",
       "      <td>0</td>\n",
       "      <td>1.21</td>\n",
       "    </tr>\n",
       "    <tr>\n",
       "      <th>1</th>\n",
       "      <td>80905</td>\n",
       "      <td>https://www.airbnb.com/rooms/80905</td>\n",
       "      <td>20190626174513</td>\n",
       "      <td>2019-06-26</td>\n",
       "      <td>French Industrial Chic Loft</td>\n",
       "      <td>Let yourself melt into the delectable décor of...</td>\n",
       "      <td>Have you ever gazed at dreamy photos in a maga...</td>\n",
       "      <td>Let yourself melt into the delectable décor of...</td>\n",
       "      <td>none</td>\n",
       "      <td>Quiet, tucked away from the hustle and bustle ...</td>\n",
       "      <td>...</td>\n",
       "      <td>f</td>\n",
       "      <td>f</td>\n",
       "      <td>super_strict_60</td>\n",
       "      <td>f</td>\n",
       "      <td>f</td>\n",
       "      <td>11</td>\n",
       "      <td>11</td>\n",
       "      <td>0</td>\n",
       "      <td>0</td>\n",
       "      <td>1.00</td>\n",
       "    </tr>\n",
       "    <tr>\n",
       "      <th>2</th>\n",
       "      <td>108061</td>\n",
       "      <td>https://www.airbnb.com/rooms/108061</td>\n",
       "      <td>20190626174513</td>\n",
       "      <td>2019-06-26</td>\n",
       "      <td>Walk downtown or UNCA, Pets OK!</td>\n",
       "      <td>Walk to town in ten minutes! Monthly rental in...</td>\n",
       "      <td>True Asheville...artist styled apartment with ...</td>\n",
       "      <td>Walk to town in ten minutes! Monthly rental in...</td>\n",
       "      <td>none</td>\n",
       "      <td>I love my neighborhood! Its friendly, easy-goi...</td>\n",
       "      <td>...</td>\n",
       "      <td>f</td>\n",
       "      <td>f</td>\n",
       "      <td>strict_14_with_grace_period</td>\n",
       "      <td>f</td>\n",
       "      <td>f</td>\n",
       "      <td>2</td>\n",
       "      <td>2</td>\n",
       "      <td>0</td>\n",
       "      <td>0</td>\n",
       "      <td>0.92</td>\n",
       "    </tr>\n",
       "    <tr>\n",
       "      <th>3</th>\n",
       "      <td>155305</td>\n",
       "      <td>https://www.airbnb.com/rooms/155305</td>\n",
       "      <td>20190626174513</td>\n",
       "      <td>2019-06-26</td>\n",
       "      <td>Cottage! BonPaul + Sharky's Hostel</td>\n",
       "      <td>NaN</td>\n",
       "      <td>Private cottage located behind the main house ...</td>\n",
       "      <td>Private cottage located behind the main house ...</td>\n",
       "      <td>none</td>\n",
       "      <td>We are within easy walk of pubs, breweries, mu...</td>\n",
       "      <td>...</td>\n",
       "      <td>t</td>\n",
       "      <td>f</td>\n",
       "      <td>moderate</td>\n",
       "      <td>f</td>\n",
       "      <td>f</td>\n",
       "      <td>7</td>\n",
       "      <td>1</td>\n",
       "      <td>2</td>\n",
       "      <td>4</td>\n",
       "      <td>2.16</td>\n",
       "    </tr>\n",
       "    <tr>\n",
       "      <th>4</th>\n",
       "      <td>156805</td>\n",
       "      <td>https://www.airbnb.com/rooms/156805</td>\n",
       "      <td>20190626174513</td>\n",
       "      <td>2019-06-26</td>\n",
       "      <td>Private Room \"Ader\" at BPS Hostel</td>\n",
       "      <td>NaN</td>\n",
       "      <td>Private Rooms at Bon Paul and Sharky's Hostel....</td>\n",
       "      <td>Private Rooms at Bon Paul and Sharky's Hostel....</td>\n",
       "      <td>none</td>\n",
       "      <td>Easy walk to pubs, cafes, bakery, breweries, l...</td>\n",
       "      <td>...</td>\n",
       "      <td>t</td>\n",
       "      <td>f</td>\n",
       "      <td>moderate</td>\n",
       "      <td>f</td>\n",
       "      <td>f</td>\n",
       "      <td>7</td>\n",
       "      <td>1</td>\n",
       "      <td>2</td>\n",
       "      <td>4</td>\n",
       "      <td>0.57</td>\n",
       "    </tr>\n",
       "  </tbody>\n",
       "</table>\n",
       "<p>5 rows × 106 columns</p>\n",
       "</div>"
      ],
      "text/plain": [
       "       id                          listing_url       scrape_id last_scraped  \\\n",
       "0   38585   https://www.airbnb.com/rooms/38585  20190626174513   2019-06-26   \n",
       "1   80905   https://www.airbnb.com/rooms/80905  20190626174513   2019-06-26   \n",
       "2  108061  https://www.airbnb.com/rooms/108061  20190626174513   2019-06-26   \n",
       "3  155305  https://www.airbnb.com/rooms/155305  20190626174513   2019-06-26   \n",
       "4  156805  https://www.airbnb.com/rooms/156805  20190626174513   2019-06-26   \n",
       "\n",
       "                                              name  \\\n",
       "0  Charming Victorian home - twin beds + breakfast   \n",
       "1                      French Industrial Chic Loft   \n",
       "2                  Walk downtown or UNCA, Pets OK!   \n",
       "3               Cottage! BonPaul + Sharky's Hostel   \n",
       "4                Private Room \"Ader\" at BPS Hostel   \n",
       "\n",
       "                                             summary  \\\n",
       "0  Per the City Council of Asheville. Due to the ...   \n",
       "1  Let yourself melt into the delectable décor of...   \n",
       "2  Walk to town in ten minutes! Monthly rental in...   \n",
       "3                                                NaN   \n",
       "4                                                NaN   \n",
       "\n",
       "                                               space  \\\n",
       "0  Charming room with 2 twin size beds, furnished...   \n",
       "1  Have you ever gazed at dreamy photos in a maga...   \n",
       "2  True Asheville...artist styled apartment with ...   \n",
       "3  Private cottage located behind the main house ...   \n",
       "4  Private Rooms at Bon Paul and Sharky's Hostel....   \n",
       "\n",
       "                                         description experiences_offered  \\\n",
       "0  Per the City Council of Asheville. Due to the ...                none   \n",
       "1  Let yourself melt into the delectable décor of...                none   \n",
       "2  Walk to town in ten minutes! Monthly rental in...                none   \n",
       "3  Private cottage located behind the main house ...                none   \n",
       "4  Private Rooms at Bon Paul and Sharky's Hostel....                none   \n",
       "\n",
       "                               neighborhood_overview  ... instant_bookable  \\\n",
       "0  Our North Asheville neighborhood stretches alo...  ...                f   \n",
       "1  Quiet, tucked away from the hustle and bustle ...  ...                f   \n",
       "2  I love my neighborhood! Its friendly, easy-goi...  ...                f   \n",
       "3  We are within easy walk of pubs, breweries, mu...  ...                t   \n",
       "4  Easy walk to pubs, cafes, bakery, breweries, l...  ...                t   \n",
       "\n",
       "  is_business_travel_ready          cancellation_policy  \\\n",
       "0                        f                     moderate   \n",
       "1                        f              super_strict_60   \n",
       "2                        f  strict_14_with_grace_period   \n",
       "3                        f                     moderate   \n",
       "4                        f                     moderate   \n",
       "\n",
       "  require_guest_profile_picture require_guest_phone_verification  \\\n",
       "0                             t                                t   \n",
       "1                             f                                f   \n",
       "2                             f                                f   \n",
       "3                             f                                f   \n",
       "4                             f                                f   \n",
       "\n",
       "   calculated_host_listings_count  \\\n",
       "0                               1   \n",
       "1                              11   \n",
       "2                               2   \n",
       "3                               7   \n",
       "4                               7   \n",
       "\n",
       "   calculated_host_listings_count_entire_homes  \\\n",
       "0                                            0   \n",
       "1                                           11   \n",
       "2                                            2   \n",
       "3                                            1   \n",
       "4                                            1   \n",
       "\n",
       "  calculated_host_listings_count_private_rooms  \\\n",
       "0                                            1   \n",
       "1                                            0   \n",
       "2                                            0   \n",
       "3                                            2   \n",
       "4                                            2   \n",
       "\n",
       "   calculated_host_listings_count_shared_rooms  reviews_per_month  \n",
       "0                                            0               1.21  \n",
       "1                                            0               1.00  \n",
       "2                                            0               0.92  \n",
       "3                                            4               2.16  \n",
       "4                                            4               0.57  \n",
       "\n",
       "[5 rows x 106 columns]"
      ]
     },
     "execution_count": 53,
     "metadata": {},
     "output_type": "execute_result"
    }
   ],
   "source": [
    "# We'll start by importing our new libraries and telling them to display any graphs in-line.\n",
    "\n",
    "import pandas as pd\n",
    "import matplotlib\n",
    "%matplotlib inline\n",
    "\n",
    "# Now we'll load the csv using the `read_csv` method in Pandas\n",
    "listings = pd.read_csv('data/listings.csv')\n",
    "# Here's how to show the first 5 rows\n",
    "listings.head()"
   ]
  },
  {
   "cell_type": "code",
   "execution_count": 54,
   "metadata": {},
   "outputs": [],
   "source": [
    "# Now we'll convert the `price` column to a float:\n",
    "listings['price'] = listings['price'].map(lambda price: float(price[1:].replace(',', '')), na_action='ignore')\n",
    "\n",
    "# And convert `zipcode` to a string:\n",
    "listings['zipcode'] = listings['zipcode'].map(lambda x: str(int(x)), na_action='ignore')"
   ]
  },
  {
   "cell_type": "code",
   "execution_count": 55,
   "metadata": {},
   "outputs": [],
   "source": [
    "# Now you try!\n",
    "\n",
    "# Hint: We can combine our visual library `matplotlib` with Pandas to create our bar charts"
   ]
  },
  {
   "cell_type": "markdown",
   "metadata": {},
   "source": [
    "---\n",
    "\n",
    "# OPTIONAL / CHALLENGE!\n",
    "> Optional and Challenge Questions are *NOT* required for submission. \n",
    "\n",
    "We'll wrap up with a few extra *challenge* questions to provide further examples of Python topics in-practice. Here we'll continue extending our Python skills to identify trends and conduct additional analysis, with the help of an additional library called [SciPy](https://www.scipy.org/).\n",
    "\n",
    "**BE WARNED**: Challenge questions are intentionally tough; these questions are designed to integrate advanced concepts and topics not covered in-class. Challenge yourself to continue your learning!\n"
   ]
  },
  {
   "cell_type": "markdown",
   "metadata": {},
   "source": [
    "---\n",
    "\n",
    "## Question 11\n",
    "\n",
    "> Remember, questions 4-12 are *optional*\n",
    "\n",
    "Use Pandas and the `calendar.csv` dataset to solve the following questions:\n",
    "\n",
    "- Part 1. Show the Average price of all listings over time (by day)\n",
    "- Part 2. Show the Average price of listing 15354741 over time (by day)\n",
    "\n",
    "What trends do you notice?\n"
   ]
  },
  {
   "cell_type": "code",
   "execution_count": 71,
   "metadata": {},
   "outputs": [
    {
     "data": {
      "text/html": [
       "<div>\n",
       "<style scoped>\n",
       "    .dataframe tbody tr th:only-of-type {\n",
       "        vertical-align: middle;\n",
       "    }\n",
       "\n",
       "    .dataframe tbody tr th {\n",
       "        vertical-align: top;\n",
       "    }\n",
       "\n",
       "    .dataframe thead th {\n",
       "        text-align: right;\n",
       "    }\n",
       "</style>\n",
       "<table border=\"1\" class=\"dataframe\">\n",
       "  <thead>\n",
       "    <tr style=\"text-align: right;\">\n",
       "      <th></th>\n",
       "      <th>listing_id</th>\n",
       "      <th>date</th>\n",
       "      <th>available</th>\n",
       "      <th>price</th>\n",
       "      <th>adjusted_price</th>\n",
       "      <th>minimum_nights</th>\n",
       "      <th>maximum_nights</th>\n",
       "    </tr>\n",
       "  </thead>\n",
       "  <tbody>\n",
       "    <tr>\n",
       "      <th>0</th>\n",
       "      <td>15354741</td>\n",
       "      <td>2019-06-26</td>\n",
       "      <td>f</td>\n",
       "      <td>$125.00</td>\n",
       "      <td>$125.00</td>\n",
       "      <td>6</td>\n",
       "      <td>1125</td>\n",
       "    </tr>\n",
       "    <tr>\n",
       "      <th>1</th>\n",
       "      <td>15354741</td>\n",
       "      <td>2019-06-27</td>\n",
       "      <td>f</td>\n",
       "      <td>$125.00</td>\n",
       "      <td>$125.00</td>\n",
       "      <td>6</td>\n",
       "      <td>1125</td>\n",
       "    </tr>\n",
       "    <tr>\n",
       "      <th>2</th>\n",
       "      <td>15354741</td>\n",
       "      <td>2019-06-28</td>\n",
       "      <td>f</td>\n",
       "      <td>$150.00</td>\n",
       "      <td>$150.00</td>\n",
       "      <td>6</td>\n",
       "      <td>1125</td>\n",
       "    </tr>\n",
       "    <tr>\n",
       "      <th>3</th>\n",
       "      <td>15354741</td>\n",
       "      <td>2019-06-29</td>\n",
       "      <td>f</td>\n",
       "      <td>$150.00</td>\n",
       "      <td>$150.00</td>\n",
       "      <td>6</td>\n",
       "      <td>1125</td>\n",
       "    </tr>\n",
       "    <tr>\n",
       "      <th>4</th>\n",
       "      <td>15354741</td>\n",
       "      <td>2019-06-30</td>\n",
       "      <td>t</td>\n",
       "      <td>$125.00</td>\n",
       "      <td>$125.00</td>\n",
       "      <td>6</td>\n",
       "      <td>1125</td>\n",
       "    </tr>\n",
       "  </tbody>\n",
       "</table>\n",
       "</div>"
      ],
      "text/plain": [
       "   listing_id        date available    price adjusted_price  minimum_nights  \\\n",
       "0    15354741  2019-06-26         f  $125.00        $125.00               6   \n",
       "1    15354741  2019-06-27         f  $125.00        $125.00               6   \n",
       "2    15354741  2019-06-28         f  $150.00        $150.00               6   \n",
       "3    15354741  2019-06-29         f  $150.00        $150.00               6   \n",
       "4    15354741  2019-06-30         t  $125.00        $125.00               6   \n",
       "\n",
       "   maximum_nights  \n",
       "0            1125  \n",
       "1            1125  \n",
       "2            1125  \n",
       "3            1125  \n",
       "4            1125  "
      ]
     },
     "execution_count": 71,
     "metadata": {},
     "output_type": "execute_result"
    }
   ],
   "source": [
    "cal = pd.read_csv('data/calendar.csv')\n",
    "cal.head()"
   ]
  },
  {
   "cell_type": "code",
   "execution_count": 72,
   "metadata": {},
   "outputs": [],
   "source": [
    "# Fix the price column\n",
    "cal['price'] = cal['price'].map(lambda x: float(x[1:].replace(',','')), na_action='ignore')"
   ]
  },
  {
   "cell_type": "code",
   "execution_count": 73,
   "metadata": {},
   "outputs": [],
   "source": [
    "# Now you try!\n"
   ]
  },
  {
   "cell_type": "markdown",
   "metadata": {},
   "source": [
    "---\n",
    "\n",
    "## Question 12\n",
    "\n",
    "> Remember, questions 4-12 are *optional* \n",
    "\n",
    "Use the `scipy` package to perform a `t` test to test the following hypothesis: Is there a significant difference in price for listings under 2 bedrooms vs listings with 2 or more bedrooms? \n",
    "\n",
    "More specifically, **are listings with 2 or more bedrooms significantly more expensive than listings with less than 2 bedrooms**? Test with $\\alpha = .05$\n",
    "\n",
    "> Hint: [Check out the documentation for SciPy here](https://www.scipy.org/docs.html).\n"
   ]
  },
  {
   "cell_type": "code",
   "execution_count": 78,
   "metadata": {},
   "outputs": [],
   "source": [
    "# Now you try!\n"
   ]
  }
 ],
 "metadata": {
  "kernelspec": {
   "display_name": "Python 3 (ipykernel)",
   "language": "python",
   "name": "python3"
  },
  "language_info": {
   "codemirror_mode": {
    "name": "ipython",
    "version": 3
   },
   "file_extension": ".py",
   "mimetype": "text/x-python",
   "name": "python",
   "nbconvert_exporter": "python",
   "pygments_lexer": "ipython3",
   "version": "3.12.4"
  }
 },
 "nbformat": 4,
 "nbformat_minor": 4
}
